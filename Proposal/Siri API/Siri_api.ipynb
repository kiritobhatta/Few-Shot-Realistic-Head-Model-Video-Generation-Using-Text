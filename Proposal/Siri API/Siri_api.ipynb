{
 "cells": [
  {
   "cell_type": "code",
   "execution_count": 1,
   "metadata": {},
   "outputs": [
    {
     "name": "stdout",
     "output_type": "stream",
     "text": [
      "{\n",
      "  \"info\": {\n",
      "    \"apiVersion\": \"1.1.16\",\n",
      "    \"clientFeatures\": [\"all\"],\n",
      "    \"clientTime\": \"2020-09-17T05:11:36.149Z\",\n",
      "    \"detectedLanguage\": \"en\",\n",
      "    \"input\": \"How old is obama\",\n",
      "    \"isNewUser\": true,\n",
      "    \"locale\": \"en\",\n",
      "    \"login\": \"mashape\",\n",
      "    \"responseTime\": 986\n",
      "  },\n",
      "  \"output\": [{\n",
      "    \"actions\": {\n",
      "      \"custom\": {},\n",
      "      \"say\": {\"text\": \"39.\"}\n",
      "    },\n",
      "    \"entities\": {\n",
      "      \"dialoguesInfo\": {\n",
      "        \"dialog\": \"default.aiml\",\n",
      "        \"dialog_id\": \"98\",\n",
      "        \"forced\": false,\n",
      "        \"initiative\": false,\n",
      "        \"match_id\": \"140008\",\n",
      "        \"matchscore\": \"3.19\",\n",
      "        \"response_id\": \"140009\"\n",
      "      },\n",
      "      \"input\": \"how old is obama\",\n",
      "      \"locale\": \"en\"\n",
      "    },\n",
      "    \"responseTime\": 596,\n",
      "    \"results\": {}\n",
      "  }]\n",
      "}\n"
     ]
    }
   ],
   "source": [
    "import http.client\n",
    "\n",
    "conn = http.client.HTTPSConnection(\"siris.p.rapidapi.com\")\n",
    "\n",
    "headers = {\n",
    "    'x-rapidapi-host': \"siris.p.rapidapi.com\",\n",
    "    'x-rapidapi-key': \"a7f9df18cdmsh88ee7afd49bfaecp172167jsn6aa5464ca2f5\"\n",
    "    }\n",
    "\n",
    "conn.request(\"GET\", \"/json?clientFeatures=all&locale=en&timeZone=%252B120&input=How%20old%20is%20obama\", headers=headers)\n",
    "\n",
    "res = conn.getresponse()\n",
    "data = res.read()\n",
    "\n",
    "print(data.decode(\"utf-8\"))"
   ]
  },
  {
   "cell_type": "code",
   "execution_count": 5,
   "metadata": {},
   "outputs": [
    {
     "name": "stdout",
     "output_type": "stream",
     "text": [
      "{'info': {'apiVersion': '1.1.16', 'clientFeatures': ['all'], 'clientTime': '2020-09-17T05:27:29.166Z', 'detectedLanguage': 'en', 'input': 'How old are you', 'isNewUser': True, 'locale': 'en', 'login': 'mashape', 'responseTime': 602}, 'output': [{'actions': {'custom': {}, 'say': {'text': 'I was activated on the Big Bang in the Universe.'}}, 'entities': {'dialoguesInfo': {'dialog': 'Bot.aiml', 'dialog_id': '1171', 'forced': False, 'initiative': False, 'match_id': '1244756', 'matchscore': '4.77', 'response_id': '1244758'}, 'input': 'how old are you', 'locale': 'en'}, 'responseTime': 302, 'results': {}}]}\n"
     ]
    }
   ],
   "source": [
    "import requests\n",
    "\n",
    "url = \"https://siris.p.rapidapi.com/json\"\n",
    "user_message = \"How old are you\"\n",
    "querystring = {\"clientFeatures\":\"all\",\"locale\":\"en\",\"timeZone\":\"%2B120\",\"input\":\"%s\" %user_message}\n",
    "\n",
    "headers = {\n",
    "    'x-rapidapi-host': \"siris.p.rapidapi.com\",\n",
    "    'x-rapidapi-key': \"a7f9df18cdmsh88ee7afd49bfaecp172167jsn6aa5464ca2f5\"\n",
    "    }\n",
    "\n",
    "response = requests.request(\"GET\", url, headers=headers, params=querystring)\n",
    "\n",
    "print(response.json())\n"
   ]
  },
  {
   "cell_type": "code",
   "execution_count": 6,
   "metadata": {},
   "outputs": [
    {
     "name": "stdout",
     "output_type": "stream",
     "text": [
      "{'text': 'I was activated on the Big Bang in the Universe.'}\n"
     ]
    }
   ],
   "source": [
    "import json\n",
    "resp = json.loads(response.text)\n",
    "print(resp['output'][0]['actions']['say'])"
   ]
  },
  {
   "cell_type": "code",
   "execution_count": 4,
   "metadata": {},
   "outputs": [
    {
     "name": "stdout",
     "output_type": "stream",
     "text": [
      "{'text': 'I was activated on the Big Bang in the Universe.'}\n"
     ]
    }
   ],
   "source": [
    "text = resp['output'][0]['actions']['say']\n",
    "print(text)"
   ]
  }
 ],
 "metadata": {
  "kernelspec": {
   "display_name": "Python 3",
   "language": "python",
   "name": "python3"
  },
  "language_info": {
   "codemirror_mode": {
    "name": "ipython",
    "version": 3
   },
   "file_extension": ".py",
   "mimetype": "text/x-python",
   "name": "python",
   "nbconvert_exporter": "python",
   "pygments_lexer": "ipython3",
   "version": "3.7.3"
  }
 },
 "nbformat": 4,
 "nbformat_minor": 4
}
